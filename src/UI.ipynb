{
 "cells": [
  {
   "cell_type": "markdown",
   "id": "06d6f97e",
   "metadata": {},
   "source": [
    "### Basic UI Design\n",
    "2021-12-28"
   ]
  },
  {
   "cell_type": "code",
   "execution_count": 5,
   "id": "d267de9f",
   "metadata": {},
   "outputs": [],
   "source": [
    "import tkinter as tk\n",
    "from PIL import ImageTk,Image "
   ]
  },
  {
   "cell_type": "code",
   "execution_count": 25,
   "id": "caceb5a5",
   "metadata": {},
   "outputs": [],
   "source": [
    "#The rootbase of the UI\n",
    "root = tk.Tk()"
   ]
  },
  {
   "cell_type": "code",
   "execution_count": 26,
   "id": "2eb91efa",
   "metadata": {},
   "outputs": [],
   "source": [
    "#Set screen size as canvas and set column\n",
    "canvas = tk.Canvas(root,width = 600, height = 300)\n",
    "canvas.grid(columnspan  = 2,rowspan =2)"
   ]
  },
  {
   "cell_type": "code",
   "execution_count": 27,
   "id": "d7b661de",
   "metadata": {},
   "outputs": [],
   "source": [
    "#Add image to tk\n",
    "field_image = Image.open('Field.jpg')\n",
    "field_image = ImageTk.PhotoImage(field_image)\n",
    "field_image_label = tk.Label(image = field_image)\n",
    "field_image_label.Image = field_image\n",
    "field_image_label.grid(column=2, row = 2)"
   ]
  },
  {
   "cell_type": "code",
   "execution_count": null,
   "id": "5dbc5c2c",
   "metadata": {},
   "outputs": [],
   "source": []
  },
  {
   "cell_type": "code",
   "execution_count": null,
   "id": "d9b9baaf",
   "metadata": {},
   "outputs": [],
   "source": []
  },
  {
   "cell_type": "code",
   "execution_count": 28,
   "id": "28419f5f",
   "metadata": {},
   "outputs": [],
   "source": [
    "#all UI elements must be before this\n",
    "root.mainloop()"
   ]
  },
  {
   "cell_type": "markdown",
   "id": "9ee6e222",
   "metadata": {},
   "source": [
    "### Reference\n",
    "https://www.youtube.com/watch?v=itRLRfuL_PQ"
   ]
  }
 ],
 "metadata": {
  "kernelspec": {
   "display_name": "Python 3 (ipykernel)",
   "language": "python",
   "name": "python3"
  },
  "language_info": {
   "codemirror_mode": {
    "name": "ipython",
    "version": 3
   },
   "file_extension": ".py",
   "mimetype": "text/x-python",
   "name": "python",
   "nbconvert_exporter": "python",
   "pygments_lexer": "ipython3",
   "version": "3.10.0"
  }
 },
 "nbformat": 4,
 "nbformat_minor": 5
}
